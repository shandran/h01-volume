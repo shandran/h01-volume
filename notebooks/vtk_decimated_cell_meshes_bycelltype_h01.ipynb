{
 "cells": [
  {
   "cell_type": "code",
   "execution_count": 1,
   "id": "cb6436a0",
   "metadata": {},
   "outputs": [],
   "source": [
    "import pandas as pd\n",
    "import numpy as np\n",
    "import os\n",
    "import trimesh\n",
    "from meshparty import trimesh_io, trimesh_vtk, skeleton, utils\n",
    "import vtk\n",
    "import matplotlib.pyplot as plt\n",
    "import datetime"
   ]
  },
  {
   "cell_type": "code",
   "execution_count": 2,
   "id": "09d7597f",
   "metadata": {},
   "outputs": [
    {
     "name": "stdout",
     "output_type": "stream",
     "text": [
      "number of astros: 3\n",
      "number of astros: 1\n",
      "number of neurons: 2\n",
      "number of segments: 52\n"
     ]
    }
   ],
   "source": [
    "# Load cellids into lists\n",
    "\n",
    "astro_list = [33487935587, 42658809302, 51189618418]\n",
    "microglia_list = [60142133362]\n",
    "neuro_list = [6745384646, 5931028416]\n",
    "segment_list = [42265647259, 42396836391, 42411044227, 42426053615, 42484370274, 42629401999, 42731915687, 51262199575, 51276888038, 59837235207, 68934592617, 68934651026, 68949223223, 77770855109, 77770869291, 77785427101, 86548800877, 86563402479, 86563416023, 86577944070, 86577958826, 86577988239, 86578017614, 86592530364, 86592530373, 86592530504, 86592530542, 86592530562, 86592530605, 86592530606, 86592530612, 86592530618, 86592530622, 86592530676, 86592530686, 86592530689, 86592530703, 86592530732, 86592530741, 86592530839, 86592530906, 86592545146, 86592545252, 86592545393, 86592545440, 86592545469, 86592545472, 86607073155, 86607087642, 86607087887, 86607102459, 86607102465]\n",
    "\n",
    "print(f'number of astros:', len(astro_list))\n",
    "print(f'number of astros:', len(microglia_list))\n",
    "print(f'number of neurons:', len(neuro_list))\n",
    "print(f'number of segments:', len(segment_list))"
   ]
  },
  {
   "cell_type": "code",
   "execution_count": 3,
   "id": "ad4d01a6",
   "metadata": {},
   "outputs": [],
   "source": [
    "mesh_dir = 'data/c3_cell_meshes/dec/' # or change to your desired folder\n",
    "seg_source = \"precomputed://gs://h01-release/data/20210601/c3\"\n",
    "mm = trimesh_io.MeshMeta(cv_path=seg_source,\n",
    "                         disk_cache_path=mesh_dir, \n",
    "                         cache_size=20)"
   ]
  },
  {
   "cell_type": "code",
   "execution_count": 4,
   "id": "f85d3e54",
   "metadata": {},
   "outputs": [],
   "source": [
    "# Combine all the lists into a dictionary with their respective prefixes\n",
    "prefix_dict = {\n",
    "    'astro_': astro_list,\n",
    "    'microglia_': microglia_list,\n",
    "    'neuro_': neuro_list,\n",
    "    'segment_': segment_list\n",
    "}\n",
    "\n",
    "# Make a dictionary to hold the mesh file for each cell id in the lists\n",
    "mesh_dictionary = {}\n",
    "for prefix, cell_list in prefix_dict.items():\n",
    "    for cellid in cell_list:\n",
    "        mesh_file = os.path.join(mesh_dir, str(cellid) + '_0.ply')\n",
    "        \n",
    "        # Error handling\n",
    "        try:\n",
    "            mesh_dictionary[prefix + str(cellid)] = trimesh.load_mesh(mesh_file)\n",
    "        except FileNotFoundError:\n",
    "            print(f\"File not found: {mesh_file}, skipping...\")\n",
    "        except Exception as e:\n",
    "            print(f\"Error loading {mesh_file}: {e}, skipping...\")\n"
   ]
  },
  {
   "cell_type": "code",
   "execution_count": 5,
   "id": "e3d088dd",
   "metadata": {
    "scrolled": true
   },
   "outputs": [
    {
     "data": {
      "text/plain": [
       "58"
      ]
     },
     "execution_count": 5,
     "metadata": {},
     "output_type": "execute_result"
    }
   ],
   "source": [
    "len(mesh_dictionary)"
   ]
  },
  {
   "cell_type": "code",
   "execution_count": 6,
   "id": "167354de",
   "metadata": {},
   "outputs": [
    {
     "data": {
      "text/plain": [
       "{'astro_33487935587': <trimesh.Trimesh(vertices.shape=(1267026, 3), faces.shape=(2536342, 3), name=`33487935587_0.ply`)>,\n",
       " 'astro_42658809302': <trimesh.Trimesh(vertices.shape=(983391, 3), faces.shape=(1954111, 3), name=`42658809302_0.ply`)>,\n",
       " 'astro_51189618418': <trimesh.Trimesh(vertices.shape=(931432, 3), faces.shape=(1866332, 3), name=`51189618418_0.ply`)>,\n",
       " 'microglia_60142133362': <trimesh.Trimesh(vertices.shape=(27627, 3), faces.shape=(55614, 3), name=`60142133362_0.ply`)>,\n",
       " 'neuro_6745384646': <trimesh.Trimesh(vertices.shape=(293462, 3), faces.shape=(585571, 3), name=`6745384646_0.ply`)>,\n",
       " 'neuro_5931028416': <trimesh.Trimesh(vertices.shape=(323703, 3), faces.shape=(643578, 3), name=`5931028416_0.ply`)>,\n",
       " 'segment_42265647259': <trimesh.Trimesh(vertices.shape=(2472, 3), faces.shape=(4932, 3), name=`42265647259_0.ply`)>,\n",
       " 'segment_42396836391': <trimesh.Trimesh(vertices.shape=(1465, 3), faces.shape=(2918, 3), name=`42396836391_0.ply`)>,\n",
       " 'segment_42411044227': <trimesh.Trimesh(vertices.shape=(3110, 3), faces.shape=(6238, 3), name=`42411044227_0.ply`)>,\n",
       " 'segment_42426053615': <trimesh.Trimesh(vertices.shape=(1375, 3), faces.shape=(2731, 3), name=`42426053615_0.ply`)>,\n",
       " 'segment_42484370274': <trimesh.Trimesh(vertices.shape=(2301, 3), faces.shape=(4620, 3), name=`42484370274_0.ply`)>,\n",
       " 'segment_42629401999': <trimesh.Trimesh(vertices.shape=(2804, 3), faces.shape=(5603, 3), name=`42629401999_0.ply`)>,\n",
       " 'segment_42731915687': <trimesh.Trimesh(vertices.shape=(1890, 3), faces.shape=(3749, 3), name=`42731915687_0.ply`)>,\n",
       " 'segment_51262199575': <trimesh.Trimesh(vertices.shape=(557, 3), faces.shape=(1109, 3), name=`51262199575_0.ply`)>,\n",
       " 'segment_51276888038': <trimesh.Trimesh(vertices.shape=(5701, 3), faces.shape=(11470, 3), name=`51276888038_0.ply`)>,\n",
       " 'segment_59837235207': <trimesh.Trimesh(vertices.shape=(3948, 3), faces.shape=(7759, 3), name=`59837235207_0.ply`)>,\n",
       " 'segment_68934592617': <trimesh.Trimesh(vertices.shape=(599, 3), faces.shape=(1158, 3), name=`68934592617_0.ply`)>,\n",
       " 'segment_68934651026': <trimesh.Trimesh(vertices.shape=(298, 3), faces.shape=(561, 3), name=`68934651026_0.ply`)>,\n",
       " 'segment_68949223223': <trimesh.Trimesh(vertices.shape=(375, 3), faces.shape=(740, 3), name=`68949223223_0.ply`)>,\n",
       " 'segment_77770855109': <trimesh.Trimesh(vertices.shape=(1256, 3), faces.shape=(2493, 3), name=`77770855109_0.ply`)>,\n",
       " 'segment_77770869291': <trimesh.Trimesh(vertices.shape=(347, 3), faces.shape=(645, 3), name=`77770869291_0.ply`)>,\n",
       " 'segment_77785427101': <trimesh.Trimesh(vertices.shape=(376, 3), faces.shape=(740, 3), name=`77785427101_0.ply`)>,\n",
       " 'segment_86548800877': <trimesh.Trimesh(vertices.shape=(201, 3), faces.shape=(386, 3), name=`86548800877_0.ply`)>,\n",
       " 'segment_86563402479': <trimesh.Trimesh(vertices.shape=(215, 3), faces.shape=(394, 3), name=`86563402479_0.ply`)>,\n",
       " 'segment_86563416023': <trimesh.Trimesh(vertices.shape=(93, 3), faces.shape=(147, 3), name=`86563416023_0.ply`)>,\n",
       " 'segment_86577944070': <trimesh.Trimesh(vertices.shape=(181, 3), faces.shape=(283, 3), name=`86577944070_0.ply`)>,\n",
       " 'segment_86577958826': <trimesh.Trimesh(vertices.shape=(79, 3), faces.shape=(143, 3), name=`86577958826_0.ply`)>,\n",
       " 'segment_86577988239': <trimesh.Trimesh(vertices.shape=(121, 3), faces.shape=(220, 3), name=`86577988239_0.ply`)>,\n",
       " 'segment_86578017614': <trimesh.Trimesh(vertices.shape=(124, 3), faces.shape=(221, 3), name=`86578017614_0.ply`)>,\n",
       " 'segment_86592530364': <trimesh.Trimesh(vertices.shape=(128, 3), faces.shape=(238, 3), name=`86592530364_0.ply`)>,\n",
       " 'segment_86592530373': <trimesh.Trimesh(vertices.shape=(71, 3), faces.shape=(133, 3), name=`86592530373_0.ply`)>,\n",
       " 'segment_86592530504': <trimesh.Trimesh(vertices.shape=(22, 3), faces.shape=(38, 3), name=`86592530504_0.ply`)>,\n",
       " 'segment_86592530542': <trimesh.Trimesh(vertices.shape=(17, 3), faces.shape=(23, 3), name=`86592530542_0.ply`)>,\n",
       " 'segment_86592530562': <trimesh.Trimesh(vertices.shape=(11, 3), faces.shape=(18, 3), name=`86592530562_0.ply`)>,\n",
       " 'segment_86592530605': <trimesh.Trimesh(vertices.shape=(738, 3), faces.shape=(1469, 3), name=`86592530605_0.ply`)>,\n",
       " 'segment_86592530606': <trimesh.Trimesh(vertices.shape=(213, 3), faces.shape=(425, 3), name=`86592530606_0.ply`)>,\n",
       " 'segment_86592530612': <trimesh.Trimesh(vertices.shape=(502, 3), faces.shape=(1010, 3), name=`86592530612_0.ply`)>,\n",
       " 'segment_86592530618': <trimesh.Trimesh(vertices.shape=(350, 3), faces.shape=(695, 3), name=`86592530618_0.ply`)>,\n",
       " 'segment_86592530622': <trimesh.Trimesh(vertices.shape=(663, 3), faces.shape=(1330, 3), name=`86592530622_0.ply`)>,\n",
       " 'segment_86592530676': <trimesh.Trimesh(vertices.shape=(51, 3), faces.shape=(79, 3), name=`86592530676_0.ply`)>,\n",
       " 'segment_86592530686': <trimesh.Trimesh(vertices.shape=(786, 3), faces.shape=(1608, 3), name=`86592530686_0.ply`)>,\n",
       " 'segment_86592530689': <trimesh.Trimesh(vertices.shape=(35, 3), faces.shape=(67, 3), name=`86592530689_0.ply`)>,\n",
       " 'segment_86592530703': <trimesh.Trimesh(vertices.shape=(17, 3), faces.shape=(30, 3), name=`86592530703_0.ply`)>,\n",
       " 'segment_86592530732': <trimesh.Trimesh(vertices.shape=(414, 3), faces.shape=(821, 3), name=`86592530732_0.ply`)>,\n",
       " 'segment_86592530741': <trimesh.Trimesh(vertices.shape=(698, 3), faces.shape=(1424, 3), name=`86592530741_0.ply`)>,\n",
       " 'segment_86592530839': <trimesh.Trimesh(vertices.shape=(457, 3), faces.shape=(927, 3), name=`86592530839_0.ply`)>,\n",
       " 'segment_86592530906': <trimesh.Trimesh(vertices.shape=(442, 3), faces.shape=(884, 3), name=`86592530906_0.ply`)>,\n",
       " 'segment_86592545146': <trimesh.Trimesh(vertices.shape=(68, 3), faces.shape=(124, 3), name=`86592545146_0.ply`)>,\n",
       " 'segment_86592545252': <trimesh.Trimesh(vertices.shape=(18, 3), faces.shape=(30, 3), name=`86592545252_0.ply`)>,\n",
       " 'segment_86592545393': <trimesh.Trimesh(vertices.shape=(422, 3), faces.shape=(802, 3), name=`86592545393_0.ply`)>,\n",
       " 'segment_86592545440': <trimesh.Trimesh(vertices.shape=(55, 3), faces.shape=(93, 3), name=`86592545440_0.ply`)>,\n",
       " 'segment_86592545469': <trimesh.Trimesh(vertices.shape=(32, 3), faces.shape=(57, 3), name=`86592545469_0.ply`)>,\n",
       " 'segment_86592545472': <trimesh.Trimesh(vertices.shape=(62, 3), faces.shape=(115, 3), name=`86592545472_0.ply`)>,\n",
       " 'segment_86607073155': <trimesh.Trimesh(vertices.shape=(143, 3), faces.shape=(257, 3), name=`86607073155_0.ply`)>,\n",
       " 'segment_86607087642': <trimesh.Trimesh(vertices.shape=(254, 3), faces.shape=(484, 3), name=`86607087642_0.ply`)>,\n",
       " 'segment_86607087887': <trimesh.Trimesh(vertices.shape=(53, 3), faces.shape=(102, 3), name=`86607087887_0.ply`)>,\n",
       " 'segment_86607102459': <trimesh.Trimesh(vertices.shape=(123, 3), faces.shape=(231, 3), name=`86607102459_0.ply`)>,\n",
       " 'segment_86607102465': <trimesh.Trimesh(vertices.shape=(91, 3), faces.shape=(148, 3), name=`86607102465_0.ply`)>}"
      ]
     },
     "execution_count": 6,
     "metadata": {},
     "output_type": "execute_result"
    }
   ],
   "source": [
    "mesh_dictionary"
   ]
  },
  {
   "cell_type": "code",
   "execution_count": 7,
   "id": "ab46c606",
   "metadata": {},
   "outputs": [
    {
     "name": "stdout",
     "output_type": "stream",
     "text": [
      "setting up renderer\n",
      "done setting up\n",
      "actors added\n",
      "camera set\n",
      "render done\n",
      "finalizing..\n"
     ]
    },
    {
     "data": {
      "text/plain": [
       "<vtkmodules.vtkRenderingOpenGL2.vtkOpenGLRenderer(0x0000026068322AD0) at 0x0000026060400708>"
      ]
     },
     "execution_count": 7,
     "metadata": {},
     "output_type": "execute_result"
    }
   ],
   "source": [
    "# Define opacities for different cell types\n",
    "opacities = {\n",
    "    'astro_': 0.01,\n",
    "    'microglia_': 0.25,\n",
    "    'neuro_': 0.25,\n",
    "    'segment_': 0.5\n",
    "}\n",
    "\n",
    "# Create mesh actors with opacity and random colors based on cell type prefix\n",
    "mesh_actor = {}\n",
    "for cell_key, mesh in mesh_dictionary.items():\n",
    "    # Determine the cell type based on the prefix\n",
    "    prefix = None\n",
    "    for key_prefix in opacities.keys():\n",
    "        if cell_key.startswith(key_prefix):\n",
    "            prefix = key_prefix\n",
    "            break\n",
    "\n",
    "    if prefix:\n",
    "        random_color = list(np.random.random(size=3))  # Random color\n",
    "        cell_opac = opacities[prefix]  # Opacity based on the prefix\n",
    "        mesh_actor[cell_key] = trimesh_vtk.mesh_actor(mesh, opacity=cell_opac, color=random_color)\n",
    "\n",
    "locals().update(mesh_actor)\n",
    "\n",
    "# Create a camera object and define the view based on the first available mesh\n",
    "if len(mesh_actor) > 0:\n",
    "    first_cell_key = next(iter(mesh_actor))\n",
    "    camera = trimesh_vtk.oriented_camera(mesh_dictionary[first_cell_key].centroid, backoff=800)\n",
    "else:\n",
    "    print(\"No valid mesh actors found in mesh_dictionary.\")\n",
    "\n",
    "# Render the actors, will open a pop-up Python window\n",
    "trimesh_vtk.render_actors(mesh_actor.values(), camera=camera)\n"
   ]
  },
  {
   "cell_type": "markdown",
   "id": "bae4cb2d",
   "metadata": {},
   "source": [
    "Save image to disk"
   ]
  },
  {
   "cell_type": "code",
   "execution_count": 8,
   "id": "cbe95c2f",
   "metadata": {},
   "outputs": [
    {
     "name": "stdout",
     "output_type": "stream",
     "text": [
      "setting up renderer\n",
      "done setting up\n",
      "actors added\n",
      "camera set\n",
      "render done\n",
      "finalizing..\n"
     ]
    },
    {
     "data": {
      "text/plain": [
       "<vtkmodules.vtkRenderingOpenGL2.vtkOpenGLRenderer(0x0000026068321190) at 0x0000026005BDB7C8>"
      ]
     },
     "execution_count": 8,
     "metadata": {},
     "output_type": "execute_result"
    }
   ],
   "source": [
    "save_dir = 'vtk_images/'\n",
    "base_name = 'axon_whorl'\n",
    "extension = 'png'\n",
    "\n",
    "date_time_stamp = datetime.datetime.now().strftime(\"%Y_%m_%d_%H%M_%S\")\n",
    "filename = f\"{save_dir}{base_name}_{date_time_stamp}.{extension}\"\n",
    "\n",
    "# uncomment to save\n",
    "\n",
    "# trimesh_vtk.render_actors(mesh_actor.values(),\n",
    "#                           filename=filename,\n",
    "#                           do_save=True,\n",
    "#                           scale=10,\n",
    "#                           camera=camera\n",
    "#                          )"
   ]
  },
  {
   "cell_type": "code",
   "execution_count": null,
   "id": "446a4565",
   "metadata": {},
   "outputs": [],
   "source": []
  }
 ],
 "metadata": {
  "kernelspec": {
   "display_name": "Python 3 (ipykernel)",
   "language": "python",
   "name": "python3"
  },
  "language_info": {
   "codemirror_mode": {
    "name": "ipython",
    "version": 3
   },
   "file_extension": ".py",
   "mimetype": "text/x-python",
   "name": "python",
   "nbconvert_exporter": "python",
   "pygments_lexer": "ipython3",
   "version": "3.7.12"
  }
 },
 "nbformat": 4,
 "nbformat_minor": 5
}
